{
 "cells": [
  {
   "cell_type": "code",
   "execution_count": 19,
   "metadata": {},
   "outputs": [],
   "source": [
    "import os\n",
    "# 需要处理文件名\n",
    "MD_filename = \"读书笔记【learning from imbalanced data sets】.md\"\n",
    "\n",
    "# 新建文件\n",
    "\n",
    "image_dir = \"image/{}\".format(MD_filename.replace(\".md\", \"\"))\n",
    "isExists=os.path.exists(image_dir)\n",
    "# 判断结果\n",
    "if not isExists:\n",
    "    # 如果不存在则创建目录\n",
    "     # 创建目录操作函数\n",
    "    os.makedirs(image_dir)\n",
    "    print(image_dir+' 创建成功')\n",
    "\n"
   ]
  },
  {
   "cell_type": "code",
   "execution_count": 24,
   "metadata": {},
   "outputs": [],
   "source": [
    "import sys\n",
    "import re\n",
    "\n",
    "interline_tag = '\\n<img src=\"https://www.zhihu.com/equation?tex={}\" alt=\"{}\\\\\\\\\" class=\"ee_img tr_noresize\" eeimg=\"1\">\\n'\n",
    "interline_pattern = \"\\$\\$\\n*(.*?)\\n*\\$\\$\"\n",
    "inline_tag = '<img src=\"https://www.zhihu.com/equation?tex={}\" alt=\"{}\" class=\"ee_img tr_noresize\" eeimg=\"1\">'\n",
    "inline_pattern = \"\\$\\n*(.*?)\\n*\\$\"\n",
    "\n",
    "def replace_tex(content):\n",
    "    def dashrepl(matchobj, tag):\n",
    "        formular = matchobj.group(1)\n",
    "        return tag.format(formular, formular)\n",
    "    content = re.sub(interline_pattern, lambda mo: dashrepl(mo, interline_tag), content)\n",
    "    content = re.sub(inline_pattern, lambda mo: dashrepl(mo, inline_tag), content)\n",
    "    return content\n",
    "\n",
    "\n",
    "filename = MD_filename\n",
    "with open(filename, 'r') as f:\n",
    "    content = f.read()\n",
    "\n",
    "filename = \"zhihu\" + MD_filename \n",
    "with open(filename, 'w') as f:\n",
    "    f.write(replace_tex(content))\n",
    "    \n",
    "    "
   ]
  },
  {
   "cell_type": "code",
   "execution_count": null,
   "metadata": {},
   "outputs": [
    {
     "name": "stdout",
     "output_type": "stream",
     "text": [
      "http://static.zybuluo.com/tc1052400205/pqqsn5ziz82zby8l2gd3v34z/image_1etc0dgh810vvvp417e817n9rvj9.png\n",
      "image_1etc0dgh810vvvp417e817n9rvj9.png\n",
      "./image/读书笔记【learning from imbalanced data sets】/image_1etc0dgh810vvvp417e817n9rvj9.png\n"
     ]
    }
   ],
   "source": [
    "# 替换图片链接\n",
    "new_file_info = []\n",
    "with open(filename) as f_r:\n",
    "    for line in f_r.readlines():\n",
    "        if \"http://static.zybuluo.com/tc1052400205\" in line:\n",
    "            url = line.split(\": \")[1].rstrip()\n",
    "            print(url)\n",
    "            import requests\n",
    "            response = requests.get(url)\n",
    "            if response.status_code == 200:\n",
    "                img_name = url.split(\"/\")[-1].replace(\" \", \"\")\n",
    "                print(img_name)\n",
    "                image_path = './{}/{}'.format(image_dir, img_name)\n",
    "                print(image_path)\n",
    "                with open(image_path, 'wb') as f:\n",
    "                    new_url = \"https://raw.githubusercontent.com/youfeng8/aidata_wiki/master/{}/{}\".format(image_dir, img_name)\n",
    "                    f.write(response.content) \n",
    "                    print(response.text[0:2])\n",
    "                    line = line.replace(url, new_url)\n",
    "                    print(\"\\t\", new_url)\n",
    "            else:\n",
    "                print(\"下载图片失败\", img_url)\n",
    "        new_file_info.append(line)\n",
    "\n",
    "import os;\n",
    "import sys;\n",
    "\n",
    "def execute_cmd(cmd):\n",
    "    print(\"#:\", cmd)\n",
    "    output=os.popen(cmd);\n",
    "    out=output.readlines();\n",
    "    print(\"--->>>\")\n",
    "    for i in out:\n",
    "        print(\"\\t\" + i.strip());\n",
    "\n",
    "cmd_list = [\n",
    "    \"git branch\",\n",
    "    \"git add -A\",\n",
    "    \"git commit -m '新增{}文档图片'\".format(MD_filename),\n",
    "    \"git push origin master\",\n",
    "]\n",
    "for cmd in cmd_list:\n",
    "    execute_cmd(cmd)\n",
    "\n",
    "\n",
    "new_MD_filename = \"new\" + MD_filename\n",
    "with open(new_MD_filename, \"w\") as f_w:\n",
    "    f_w.writelines(new_file_info)\n",
    "    for line in new_file_info:\n",
    "        print(line)\n",
    "\n",
    "        "
   ]
  },
  {
   "cell_type": "code",
   "execution_count": null,
   "metadata": {},
   "outputs": [],
   "source": []
  },
  {
   "cell_type": "code",
   "execution_count": 5,
   "metadata": {},
   "outputs": [],
   "source": []
  },
  {
   "cell_type": "code",
   "execution_count": null,
   "metadata": {},
   "outputs": [],
   "source": []
  }
 ],
 "metadata": {
  "kernelspec": {
   "display_name": "Python 3",
   "language": "python",
   "name": "python3"
  },
  "language_info": {
   "codemirror_mode": {
    "name": "ipython",
    "version": 3
   },
   "file_extension": ".py",
   "mimetype": "text/x-python",
   "name": "python",
   "nbconvert_exporter": "python",
   "pygments_lexer": "ipython3",
   "version": "3.7.4"
  }
 },
 "nbformat": 4,
 "nbformat_minor": 2
}
