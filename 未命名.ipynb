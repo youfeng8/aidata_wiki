{
 "cells": [
  {
   "cell_type": "code",
   "execution_count": 9,
   "metadata": {},
   "outputs": [
    {
     "name": "stdout",
     "output_type": "stream",
     "text": [
      "http://static.zybuluo.com/tc1052400205/sy8rwp8k127v7twfhbufpwp5/H1.webp\n",
      "\n",
      "http://static.zybuluo.com/tc1052400205/8a7lx1ctpoukxp8n523y4itv/F2.webp\n",
      "\n",
      "http://static.zybuluo.com/tc1052400205/dhws20q69him68hvcdc9qp5j/F3.webp\n",
      "\n",
      "http://static.zybuluo.com/tc1052400205/dq4yvhwrlh2aytwh1s6cvw75/F4.webp\n",
      "\n",
      "http://static.zybuluo.com/tc1052400205/ah7bsaojpay5tid2a7oq7yum/F2.png\n",
      "\n",
      "http://static.zybuluo.com/tc1052400205/6xdw3fddcffc8tsvsfxi1aw1/F1.png\n"
     ]
    }
   ],
   "source": [
    "import os\n",
    "# 需要处理文件名\n",
    "MD_filename = \"自然语言处理.md\"\n",
    "\n",
    "# 新建文件\n",
    "\n",
    "image_dir = \"image/{}\".format(MD_filename.replace(\".md\", \"\"))\n",
    "isExists=os.path.exists(image_dir)\n",
    "# 判断结果\n",
    "if not isExists:\n",
    "    # 如果不存在则创建目录\n",
    "     # 创建目录操作函数\n",
    "    os.makedirs(image_dir)\n",
    "    print(image_dir+' 创建成功')\n",
    "\n"
   ]
  },
  {
   "cell_type": "code",
   "execution_count": 64,
   "metadata": {},
   "outputs": [
    {
     "name": "stdout",
     "output_type": "stream",
     "text": [
      "http://static.zybuluo.com/tc1052400205/sy8rwp8k127v7twfhbufpwp5/H1.webp\n",
      "./image/自然语言处理/H1.webp\n",
      "RI\n",
      "\t https://raw.githubusercontent.com/youfeng8/aidata_wiki/master/image/自然语言处理/H1.webp\n",
      "http://static.zybuluo.com/tc1052400205/8a7lx1ctpoukxp8n523y4itv/F2.webp\n",
      "./image/自然语言处理/F2.webp\n",
      "RI\n",
      "\t https://raw.githubusercontent.com/youfeng8/aidata_wiki/master/image/自然语言处理/F2.webp\n",
      "http://static.zybuluo.com/tc1052400205/dhws20q69him68hvcdc9qp5j/F3.webp\n",
      "./image/自然语言处理/F3.webp\n",
      "RI\n",
      "\t https://raw.githubusercontent.com/youfeng8/aidata_wiki/master/image/自然语言处理/F3.webp\n",
      "http://static.zybuluo.com/tc1052400205/dq4yvhwrlh2aytwh1s6cvw75/F4.webp\n",
      "./image/自然语言处理/F4.webp\n",
      "RI\n",
      "\t https://raw.githubusercontent.com/youfeng8/aidata_wiki/master/image/自然语言处理/F4.webp\n",
      "http://static.zybuluo.com/tc1052400205/ah7bsaojpay5tid2a7oq7yum/F2.png\n",
      "./image/自然语言处理/F2.png\n",
      "�P\n",
      "\t https://raw.githubusercontent.com/youfeng8/aidata_wiki/master/image/自然语言处理/F2.png\n",
      "http://static.zybuluo.com/tc1052400205/6xdw3fddcffc8tsvsfxi1aw1/F1.png\n",
      "./image/自然语言处理/F1.png\n",
      "�P\n",
      "\t https://raw.githubusercontent.com/youfeng8/aidata_wiki/master/image/自然语言处理/F1.png\n"
     ]
    }
   ],
   "source": [
    "# 替换图片链接\n",
    "new_file_info = []\n",
    "with open(MD_filename) as f_r:\n",
    "    for line in f_r.readlines():\n",
    "        if \"http://static.zybuluo.com/tc1052400205\" in line:\n",
    "            url = line.split(\": \")[1].rstrip()\n",
    "            print(url)\n",
    "            response = requests.get(url)\n",
    "            if response.status_code == 200:\n",
    "                img_name = url.split(\"/\")[-1]\n",
    "                image_path = './{}/{}'.format(image_dir, img_name)\n",
    "                print(image_path)\n",
    "                with open(image_path, 'wb') as f:\n",
    "                    new_url = \"https://raw.githubusercontent.com/youfeng8/aidata_wiki/master/{}/{}\".format(image_dir, img_name)\n",
    "                    f.write(response.content) \n",
    "                    print(response.text[0:2])\n",
    "                    line = line.replace(url, new_url)\n",
    "                    print(\"\\t\", new_url)\n",
    "            else:\n",
    "                print(\"下载图片失败\", img_url)\n",
    "        new_file_info.append(line)\n",
    "\n",
    "import os;\n",
    "import sys;\n",
    "\n",
    "def execute_cmd(cmd):\n",
    "    print(\"#:\", cmd)\n",
    "    output=os.popen(cmd);\n",
    "    out=output.readlines();\n",
    "    print(\"--->>>\")\n",
    "    for i in out:\n",
    "        print(\"\\t\" + i.strip());\n",
    "\n",
    "cmd_list = [\n",
    "    \"git branch\",\n",
    "    \"git add -A\",\n",
    "    \"git commit -m '新增{}文档图片'\".format(MD_filename),\n",
    "    \"git push origin master\",\n",
    "]\n",
    "for cmd in cmd_list:\n",
    "    execute_cmd(cmd)\n",
    "\n",
    "\n",
    "with open(\"new\"_MD_filename, \"w\") as f_w:\n",
    "    for new_file_info\n",
    "    "
   ]
  },
  {
   "cell_type": "code",
   "execution_count": 63,
   "metadata": {},
   "outputs": [
    {
     "name": "stdout",
     "output_type": "stream",
     "text": [
      "#: git branch\n",
      "--->>>\n",
      "\tmain\n",
      "\t* master\n",
      "#: git add -A\n",
      "--->>>\n",
      "#: git commit -m '新增自然语言处理.md文档图片'\n",
      "--->>>\n",
      "\t[master 320dfe2] 新增自然语言处理.md文档图片\n",
      "\t6 files changed, 0 insertions(+), 0 deletions(-)\n",
      "\tcreate mode 100644 \"image/\\350\\207\\252\\347\\204\\266\\350\\257\\255\\350\\250\\200\\345\\244\\204\\347\\220\\206/F1.png\"\n",
      "\tcreate mode 100644 \"image/\\350\\207\\252\\347\\204\\266\\350\\257\\255\\350\\250\\200\\345\\244\\204\\347\\220\\206/F2.png\"\n",
      "\tcreate mode 100644 \"image/\\350\\207\\252\\347\\204\\266\\350\\257\\255\\350\\250\\200\\345\\244\\204\\347\\220\\206/F2.webp\"\n",
      "\tcreate mode 100644 \"image/\\350\\207\\252\\347\\204\\266\\350\\257\\255\\350\\250\\200\\345\\244\\204\\347\\220\\206/F3.webp\"\n",
      "\tcreate mode 100644 \"image/\\350\\207\\252\\347\\204\\266\\350\\257\\255\\350\\250\\200\\345\\244\\204\\347\\220\\206/F4.webp\"\n",
      "\tcreate mode 100644 \"image/\\350\\207\\252\\347\\204\\266\\350\\257\\255\\350\\250\\200\\345\\244\\204\\347\\220\\206/H1.webp\"\n",
      "#: git push origin master\n",
      "--->>>\n"
     ]
    }
   ],
   "source": [
    "\n"
   ]
  },
  {
   "cell_type": "code",
   "execution_count": 36,
   "metadata": {},
   "outputs": [
    {
     "name": "stdout",
     "output_type": "stream",
     "text": [
      "200\n",
      "./image/自然语言处理/F1.png\n"
     ]
    }
   ],
   "source": [
    "query_general_str = \"\"\"\n",
    "Request URL: http://static.zybuluo.com/tc1052400205/sy8rwp8k127v7twfhbufpwp5/H1.webp\n",
    "Request Method: GET\n",
    "Status Code: 200 OK\n",
    "Remote Address: 101.72.205.213:80\n",
    "Referrer Policy: strict-origin-when-cross-origin\n",
    "\"\"\"\n",
    "\n",
    "query_requests_header_str = \"\"\"\n",
    "Accept: text/html,application/xhtml+xml,application/xml;q=0.9,image/avif,image/webp,image/apng,*/*;q=0.8,application/signed-exchange;v=b3;q=0.9\n",
    "Accept-Encoding: gzip, deflate\n",
    "Accept-Language: zh-CN,zh;q=0.9\n",
    "Cache-Control: no-cache\n",
    "Connection: keep-alive\n",
    "Host: static.zybuluo.com\n",
    "Pragma: no-cache\n",
    "Upgrade-Insecure-Requests: 1\n",
    "User-Agent: Mozilla/5.0 (Macintosh; Intel Mac OS X 10_14_6) AppleWebKit/537.36 (KHTML, like Gecko) Chrome/87.0.4280.88 Safari/537.36\n",
    "\"\"\"\n",
    "\n",
    "\n",
    "def parse_string_to_dict(str):\n",
    "    result_dict = {}\n",
    "    for line in str.split(\"\\n\"):\n",
    "        if \": \" not in line:\n",
    "            continue\n",
    "\n",
    "        line_split = line.split(\": \")\n",
    "        key = line_split[0]\n",
    "        value = \"\"\n",
    "        if len(line_split) >= 2:\n",
    "            value = line_split[1]\n",
    "        result_dict[key] = value\n",
    "    return result_dict\n",
    "\n",
    "import requests\n",
    "\n",
    "headers_dict = parse_string_to_dict(query_requests_header_str)\n",
    "\n",
    "url = \"http://static.zybuluo.com/tc1052400205/6xdw3fddcffc8tsvsfxi1aw1/F1.png\"\n",
    "# url = 'http://static.zybuluo.com/tc1052400205/ah7bsaojpay5tid2a7oq7yum/F2.png'\n",
    "response = requests.get(url, headers=headers_dict)\n",
    "# content = response.text\n",
    "\n",
    "\n",
    "\n"
   ]
  },
  {
   "cell_type": "code",
   "execution_count": null,
   "metadata": {},
   "outputs": [],
   "source": []
  }
 ],
 "metadata": {
  "kernelspec": {
   "display_name": "Python 3",
   "language": "python",
   "name": "python3"
  },
  "language_info": {
   "codemirror_mode": {
    "name": "ipython",
    "version": 3
   },
   "file_extension": ".py",
   "mimetype": "text/x-python",
   "name": "python",
   "nbconvert_exporter": "python",
   "pygments_lexer": "ipython3",
   "version": "3.7.4"
  }
 },
 "nbformat": 4,
 "nbformat_minor": 2
}
